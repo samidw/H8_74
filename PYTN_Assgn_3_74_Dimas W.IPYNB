{
 "cells": [
  {
   "cell_type": "code",
   "execution_count": 106,
   "metadata": {},
   "outputs": [],
   "source": [
    "import pandas as pd\n",
    "import numpy as np\n",
    "\n",
    "%matplotlib inline\n",
    "import matplotlib.pyplot as plt\n",
    "\n",
    "from sklearn.linear_model import LogisticRegression\n",
    "from sklearn.metrics import classification_report, confusion_matrix\n",
    "\n",
    "# KNN\n",
    "from sklearn.neighbors import KNeighborsClassifier\n",
    "\n",
    "# split data jadi training dan testing data\n",
    "from sklearn.model_selection import train_test_split\n",
    "\n",
    "# Support Vector Machine\n",
    "from sklearn.svm import SVC\n",
    "# Decision Tree\n",
    "from sklearn.tree import DecisionTreeClassifier\n",
    "# Random Forst\n",
    "from sklearn.ensemble import RandomForestClassifier\n",
    "# Naive Bayes\n",
    "from sklearn.naive_bayes import GaussianNB\n",
    "# scaling, encoding\n",
    "from sklearn.preprocessing import StandardScaler, LabelEncoder\n",
    "\n",
    "# untuk visualisasi decision tree, kita perlu bantuan bbrp package\n",
    "import sklearn.tree as tree\n",
    "from six import StringIO \n",
    "import pydotplus \n",
    "from IPython.display import Image\n"
   ]
  },
  {
   "cell_type": "markdown",
   "metadata": {},
   "source": [
    "## Data yang digunakan sebagai masukan bagi machine learning adalah:\n",
    "   bank-additional.csv with 10% of the examples (4119), randomly selected from 1), and 20 inputs"
   ]
  },
  {
   "cell_type": "code",
   "execution_count": 107,
   "metadata": {},
   "outputs": [
    {
     "name": "stdout",
     "output_type": "stream",
     "text": [
      "(4119, 22)\n",
      "Index(['age', 'job', 'marital', 'education', 'default', 'housing', 'loan',\n",
      "       'contact', 'month', 'day_of_week', 'duration', 'campaign', 'pdays',\n",
      "       'previous', 'poutcome', 'emp.var.rate', 'cons.price.idx',\n",
      "       'cons.conf.idx', 'euribor3m', 'nr.employed', 'y', 'isdeposit'],\n",
      "      dtype='object')\n",
      "<class 'pandas.core.frame.DataFrame'>\n",
      "RangeIndex: 4119 entries, 0 to 4118\n",
      "Data columns (total 22 columns):\n",
      " #   Column          Non-Null Count  Dtype  \n",
      "---  ------          --------------  -----  \n",
      " 0   age             4119 non-null   int64  \n",
      " 1   job             4119 non-null   object \n",
      " 2   marital         4119 non-null   object \n",
      " 3   education       4119 non-null   object \n",
      " 4   default         4119 non-null   object \n",
      " 5   housing         4119 non-null   object \n",
      " 6   loan            4119 non-null   object \n",
      " 7   contact         4119 non-null   object \n",
      " 8   month           4119 non-null   object \n",
      " 9   day_of_week     4119 non-null   object \n",
      " 10  duration        4119 non-null   int64  \n",
      " 11  campaign        4119 non-null   int64  \n",
      " 12  pdays           4119 non-null   int64  \n",
      " 13  previous        4119 non-null   int64  \n",
      " 14  poutcome        4119 non-null   object \n",
      " 15  emp.var.rate    4119 non-null   float64\n",
      " 16  cons.price.idx  4119 non-null   float64\n",
      " 17  cons.conf.idx   4119 non-null   float64\n",
      " 18  euribor3m       4119 non-null   float64\n",
      " 19  nr.employed     4119 non-null   float64\n",
      " 20  y               4119 non-null   object \n",
      " 21  isdeposit       4119 non-null   int64  \n",
      "dtypes: float64(5), int64(6), object(11)\n",
      "memory usage: 708.1+ KB\n",
      "None\n"
     ]
    },
    {
     "data": {
      "text/plain": [
       "age               0\n",
       "job               0\n",
       "marital           0\n",
       "education         0\n",
       "default           0\n",
       "housing           0\n",
       "loan              0\n",
       "contact           0\n",
       "month             0\n",
       "day_of_week       0\n",
       "duration          0\n",
       "campaign          0\n",
       "pdays             0\n",
       "previous          0\n",
       "poutcome          0\n",
       "emp.var.rate      0\n",
       "cons.price.idx    0\n",
       "cons.conf.idx     0\n",
       "euribor3m         0\n",
       "nr.employed       0\n",
       "y                 0\n",
       "isdeposit         0\n",
       "dtype: int64"
      ]
     },
     "execution_count": 107,
     "metadata": {},
     "output_type": "execute_result"
    }
   ],
   "source": [
    "bank_41190=pd.read_csv('bank-additional.csv',sep=';')\n",
    "bank_41190['isdeposit'] = bank_41190.y.replace({'yes':1, 'no':0})\n",
    "print(bank_41190.shape)\n",
    "print(bank_41190.columns)\n",
    "print(bank_41190.info())\n",
    "\n",
    "bank_41190.isnull().sum()"
   ]
  },
  {
   "cell_type": "markdown",
   "metadata": {},
   "source": [
    "## Plot"
   ]
  },
  {
   "cell_type": "code",
   "execution_count": 108,
   "metadata": {},
   "outputs": [
    {
     "data": {
      "text/html": [
       "<div>\n",
       "<style scoped>\n",
       "    .dataframe tbody tr th:only-of-type {\n",
       "        vertical-align: middle;\n",
       "    }\n",
       "\n",
       "    .dataframe tbody tr th {\n",
       "        vertical-align: top;\n",
       "    }\n",
       "\n",
       "    .dataframe thead th {\n",
       "        text-align: right;\n",
       "    }\n",
       "</style>\n",
       "<table border=\"1\" class=\"dataframe\">\n",
       "  <thead>\n",
       "    <tr style=\"text-align: right;\">\n",
       "      <th></th>\n",
       "      <th>0</th>\n",
       "      <th>1</th>\n",
       "    </tr>\n",
       "    <tr>\n",
       "      <th>age</th>\n",
       "      <th></th>\n",
       "      <th></th>\n",
       "    </tr>\n",
       "  </thead>\n",
       "  <tbody>\n",
       "    <tr>\n",
       "      <th>18</th>\n",
       "      <td>2</td>\n",
       "      <td>1.0</td>\n",
       "    </tr>\n",
       "    <tr>\n",
       "      <th>19</th>\n",
       "      <td>1</td>\n",
       "      <td>NaN</td>\n",
       "    </tr>\n",
       "    <tr>\n",
       "      <th>20</th>\n",
       "      <td>4</td>\n",
       "      <td>NaN</td>\n",
       "    </tr>\n",
       "    <tr>\n",
       "      <th>21</th>\n",
       "      <td>4</td>\n",
       "      <td>3.0</td>\n",
       "    </tr>\n",
       "    <tr>\n",
       "      <th>22</th>\n",
       "      <td>8</td>\n",
       "      <td>2.0</td>\n",
       "    </tr>\n",
       "    <tr>\n",
       "      <th>...</th>\n",
       "      <td>...</td>\n",
       "      <td>...</td>\n",
       "    </tr>\n",
       "    <tr>\n",
       "      <th>78</th>\n",
       "      <td>2</td>\n",
       "      <td>1.0</td>\n",
       "    </tr>\n",
       "    <tr>\n",
       "      <th>80</th>\n",
       "      <td>1</td>\n",
       "      <td>3.0</td>\n",
       "    </tr>\n",
       "    <tr>\n",
       "      <th>81</th>\n",
       "      <td>1</td>\n",
       "      <td>2.0</td>\n",
       "    </tr>\n",
       "    <tr>\n",
       "      <th>85</th>\n",
       "      <td>1</td>\n",
       "      <td>NaN</td>\n",
       "    </tr>\n",
       "    <tr>\n",
       "      <th>88</th>\n",
       "      <td>1</td>\n",
       "      <td>NaN</td>\n",
       "    </tr>\n",
       "  </tbody>\n",
       "</table>\n",
       "<p>64 rows × 2 columns</p>\n",
       "</div>"
      ],
      "text/plain": [
       "     0    1\n",
       "age        \n",
       "18   2  1.0\n",
       "19   1  NaN\n",
       "20   4  NaN\n",
       "21   4  3.0\n",
       "22   8  2.0\n",
       "..  ..  ...\n",
       "78   2  1.0\n",
       "80   1  3.0\n",
       "81   1  2.0\n",
       "85   1  NaN\n",
       "88   1  NaN\n",
       "\n",
       "[64 rows x 2 columns]"
      ]
     },
     "execution_count": 108,
     "metadata": {},
     "output_type": "execute_result"
    }
   ],
   "source": [
    "df_age_deposit = pd.DataFrame()\n",
    "\n",
    "for dpsit in bank_41190['isdeposit'].value_counts().index:\n",
    "    df_age = bank_41190[bank_41190['isdeposit']==dpsit]\n",
    "    df_age_deposit[dpsit] = df_age.groupby('age')['isdeposit'].count()\n",
    "\n",
    "df_age_deposit\n"
   ]
  },
  {
   "cell_type": "code",
   "execution_count": 109,
   "metadata": {},
   "outputs": [
    {
     "data": {
      "text/plain": [
       "Text(0, 0.5, 'Jumlah orang buka deposito')"
      ]
     },
     "execution_count": 109,
     "metadata": {},
     "output_type": "execute_result"
    },
    {
     "data": {
      "image/png": "[encoded data removed]",
      "text/plain": [
       "<Figure size 864x648 with 1 Axes>"
      ]
     },
     "metadata": {
      "needs_background": "light"
     },
     "output_type": "display_data"
    }
   ],
   "source": [
    "df_age_deposit.plot(kind='area',figsize=(12,9))\n",
    "plt.xlabel('Usia')\n",
    "plt.ylabel('Jumlah orang buka deposito')"
   ]
  },
  {
   "cell_type": "markdown",
   "metadata": {},
   "source": [
    "## Sebaran data pada Bank CSV additional terlihat usia 20-60 banyak yang belum buka deposito\n"
   ]
  },
  {
   "cell_type": "markdown",
   "metadata": {},
   "source": [
    "## Model machine learning menggunakan LOGISTIC REGRESSION"
   ]
  },
  {
   "cell_type": "code",
   "execution_count": 110,
   "metadata": {},
   "outputs": [],
   "source": [
    "#split dataset in features and target variable\n",
    "feature_cols = ['age', 'campaign', 'duration', 'cons.price.idx']\n",
    "fitur = bank_41190[feature_cols] # Features\n",
    "target = bank_41190.y # Target variable"
   ]
  },
  {
   "cell_type": "code",
   "execution_count": 111,
   "metadata": {},
   "outputs": [
    {
     "name": "stdout",
     "output_type": "stream",
     "text": [
      "              precision    recall  f1-score   support\n",
      "\n",
      "          no       0.91      0.99      0.95      3668\n",
      "         yes       0.62      0.19      0.29       451\n",
      "\n",
      "    accuracy                           0.90      4119\n",
      "   macro avg       0.77      0.59      0.62      4119\n",
      "weighted avg       0.88      0.90      0.87      4119\n",
      "\n"
     ]
    },
    {
     "data": {
      "image/png": "[encoded data removed]",
      "text/plain": [
       "<Figure size 288x288 with 1 Axes>"
      ]
     },
     "metadata": {
      "needs_background": "light"
     },
     "output_type": "display_data"
    }
   ],
   "source": [
    "model = LogisticRegression(solver='liblinear', random_state=0)\n",
    "model.fit(fitur, target)\n",
    "target_prediksi = model.predict(fitur)\n",
    "\n",
    "print(classification_report(target, target_prediksi))\n",
    "\n",
    "cm = confusion_matrix(target, target_prediksi)\n",
    "\n",
    "fig, ax = plt.subplots(figsize=(4, 4)) \n",
    "ax.imshow(cm) \n",
    "ax.grid(False) \n",
    "ax.xaxis.set(ticks=(0, 1), ticklabels=('Predicted 0s', 'Predicted 1s')) \n",
    "ax.yaxis.set(ticks=(0, 1), ticklabels=('Actual 0s', 'Actual 1s')) \n",
    "ax.set_ylim(1.5, -0.5) \n",
    "\n",
    "for i in range(2): \n",
    "    for j in range(2): \n",
    "        ax.text(j, i, cm[i, j], ha='center', va='center', color='black', fontsize=24) \n",
    "\n",
    "plt.title(\"Confusion Matrix\")        \n",
    "plt.show()\n"
   ]
  },
  {
   "cell_type": "markdown",
   "metadata": {},
   "source": [
    "## Model machine learning menggunakan KNN"
   ]
  },
  {
   "cell_type": "code",
   "execution_count": 112,
   "metadata": {},
   "outputs": [
    {
     "name": "stdout",
     "output_type": "stream",
     "text": [
      "              precision    recall  f1-score   support\n",
      "\n",
      "          no       1.00      1.00      1.00      3668\n",
      "         yes       1.00      1.00      1.00       451\n",
      "\n",
      "    accuracy                           1.00      4119\n",
      "   macro avg       1.00      1.00      1.00      4119\n",
      "weighted avg       1.00      1.00      1.00      4119\n",
      "\n",
      "[[3668    0]\n",
      " [   0  451]]\n"
     ]
    },
    {
     "data": {
      "image/png": "[encoded data removed]",
      "text/plain": [
       "<Figure size 288x288 with 1 Axes>"
      ]
     },
     "metadata": {
      "needs_background": "light"
     },
     "output_type": "display_data"
    }
   ],
   "source": [
    "n=1\n",
    "feature_cols = ['age', 'campaign', 'duration', 'cons.price.idx']\n",
    "fitur_knn = bank_41190[feature_cols] # Features\n",
    "target_knn = bank_41190.y # Target variable\n",
    "\n",
    "\n",
    "model = KNeighborsClassifier(n_neighbors=n) # kita bisa pilih jumlah neighbor k brp\n",
    "model.fit(fitur_knn, target_knn)\n",
    "target_prediksi_KNN = model.predict(fitur_knn)\n",
    "\n",
    "print(classification_report(target_knn, target_prediksi_KNN))\n",
    "print(confusion_matrix(target_knn,target_prediksi_KNN))\n",
    "\n",
    "\n",
    "\n",
    "cm = confusion_matrix(target_knn, target_prediksi_KNN)\n",
    "\n",
    "fig, ax = plt.subplots(figsize=(4, 4)) \n",
    "ax.imshow(cm) \n",
    "ax.grid(False) \n",
    "ax.xaxis.set(ticks=(0, 1), ticklabels=('Predicted 0s', 'Predicted 1s')) \n",
    "ax.yaxis.set(ticks=(0, 1), ticklabels=('Actual 0s', 'Actual 1s')) \n",
    "ax.set_ylim(1.5, -0.5) \n",
    "\n",
    "for i in range(2): \n",
    "    for j in range(2): \n",
    "        ax.text(j, i, cm[i, j], ha='center', va='center', color='black', fontsize=24) \n",
    "\n",
    "plt.title(\"Confusion Matrix\")        \n",
    "plt.show()"
   ]
  },
  {
   "cell_type": "markdown",
   "metadata": {},
   "source": [
    "## Model machine learning menggnunakan SVM"
   ]
  },
  {
   "cell_type": "code",
   "execution_count": 113,
   "metadata": {},
   "outputs": [
    {
     "name": "stdout",
     "output_type": "stream",
     "text": [
      "(3089, 4) (1030, 4)\n",
      "(3089,) (1030,)\n"
     ]
    }
   ],
   "source": [
    "feature_cols = ['age', 'campaign', 'duration', 'cons.price.idx']\n",
    "fitur_svm = bank_41190[feature_cols] # Features\n",
    "target_svm = bank_41190.y # Target variable\n",
    "\n",
    "scaler = StandardScaler()\n",
    "fitur_scaled = scaler.fit_transform(fitur_svm)\n",
    "\n",
    "\n",
    "\n",
    "# pisahin jadi training dan testing data\n",
    "x_train, x_test, y_train, y_test = train_test_split(fitur_scaled, target_svm, random_state = 0)\n",
    "\n",
    "print(x_train.shape, x_test.shape)\n",
    "print(y_train.shape, y_test.shape)"
   ]
  },
  {
   "cell_type": "code",
   "execution_count": 114,
   "metadata": {},
   "outputs": [
    {
     "data": {
      "text/plain": [
       "SVC()"
      ]
     },
     "execution_count": 114,
     "metadata": {},
     "output_type": "execute_result"
    }
   ],
   "source": [
    "# buat dan latih model\n",
    "model = SVC()\n",
    "model.fit(x_train, y_train)\n"
   ]
  },
  {
   "cell_type": "code",
   "execution_count": 115,
   "metadata": {},
   "outputs": [
    {
     "name": "stdout",
     "output_type": "stream",
     "text": [
      "              precision    recall  f1-score   support\n",
      "\n",
      "          no       0.92      0.98      0.95       929\n",
      "         yes       0.50      0.17      0.25       101\n",
      "\n",
      "    accuracy                           0.90      1030\n",
      "   macro avg       0.71      0.58      0.60      1030\n",
      "weighted avg       0.87      0.90      0.88      1030\n",
      "\n",
      "[[912  17]\n",
      " [ 84  17]]\n"
     ]
    },
    {
     "data": {
      "image/png": "[encoded data removed]",
      "text/plain": [
       "<Figure size 288x288 with 1 Axes>"
      ]
     },
     "metadata": {
      "needs_background": "light"
     },
     "output_type": "display_data"
    }
   ],
   "source": [
    "# evaluasi\n",
    "target_svm = model.predict(x_test)\n",
    "print(classification_report(y_test, target_svm))\n",
    "print(confusion_matrix(y_test, target_svm))\n",
    "\n",
    "\n",
    "cm = confusion_matrix(y_test, target_svm)\n",
    "\n",
    "fig, ax = plt.subplots(figsize=(4, 4)) \n",
    "ax.imshow(cm) \n",
    "ax.grid(False) \n",
    "ax.xaxis.set(ticks=(0, 1), ticklabels=('Predicted 0s', 'Predicted 1s')) \n",
    "ax.yaxis.set(ticks=(0, 1), ticklabels=('Actual 0s', 'Actual 1s')) \n",
    "ax.set_ylim(1.5, -0.5) \n",
    "\n",
    "for i in range(2): \n",
    "    for j in range(2): \n",
    "        ax.text(j, i, cm[i, j], ha='center', va='center', color='black', fontsize=24) \n",
    "\n",
    "plt.title(\"Confusion Matrix\")        \n",
    "plt.show()"
   ]
  },
  {
   "cell_type": "markdown",
   "metadata": {},
   "source": [
    "## Model machine learning menggunakan DECISION TREE"
   ]
  },
  {
   "cell_type": "code",
   "execution_count": 116,
   "metadata": {},
   "outputs": [
    {
     "name": "stdout",
     "output_type": "stream",
     "text": [
      "              precision    recall  f1-score   support\n",
      "\n",
      "          no       0.94      0.91      0.92       929\n",
      "         yes       0.35      0.45      0.39       101\n",
      "\n",
      "    accuracy                           0.87      1030\n",
      "   macro avg       0.64      0.68      0.66      1030\n",
      "weighted avg       0.88      0.87      0.87      1030\n",
      "\n",
      "[[846  83]\n",
      " [ 56  45]]\n"
     ]
    },
    {
     "data": {
      "image/png": "[encoded data removed]",
      "text/plain": [
       "<Figure size 288x288 with 1 Axes>"
      ]
     },
     "metadata": {
      "needs_background": "light"
     },
     "output_type": "display_data"
    }
   ],
   "source": [
    "# buat dan latih model\n",
    "model = DecisionTreeClassifier()\n",
    "model.fit(x_train, y_train)\n",
    "\n",
    "# evaluasi\n",
    "hasil_prediksi = model.predict(x_test)\n",
    "print(classification_report(y_test, hasil_prediksi))\n",
    "print(confusion_matrix(y_test, hasil_prediksi))\n",
    "\n",
    "cm = confusion_matrix(y_test, hasil_prediksi)\n",
    "\n",
    "fig, ax = plt.subplots(figsize=(4, 4)) \n",
    "ax.imshow(cm) \n",
    "ax.grid(False) \n",
    "ax.xaxis.set(ticks=(0, 1), ticklabels=('Predicted 0s', 'Predicted 1s')) \n",
    "ax.yaxis.set(ticks=(0, 1), ticklabels=('Actual 0s', 'Actual 1s')) \n",
    "ax.set_ylim(1.5, -0.5) \n",
    "\n",
    "for i in range(2): \n",
    "    for j in range(2): \n",
    "        ax.text(j, i, cm[i, j], ha='center', va='center', color='black', fontsize=24) \n",
    "\n",
    "plt.title(\"Confusion Matrix\")        \n",
    "plt.show()"
   ]
  },
  {
   "cell_type": "markdown",
   "metadata": {},
   "source": [
    "## Model machine learning menggunakan RANDOM FOREST"
   ]
  },
  {
   "cell_type": "code",
   "execution_count": 117,
   "metadata": {},
   "outputs": [
    {
     "name": "stdout",
     "output_type": "stream",
     "text": [
      "              precision    recall  f1-score   support\n",
      "\n",
      "          no       0.92      0.98      0.95       929\n",
      "         yes       0.50      0.23      0.31       101\n",
      "\n",
      "    accuracy                           0.90      1030\n",
      "   macro avg       0.71      0.60      0.63      1030\n",
      "weighted avg       0.88      0.90      0.89      1030\n",
      "\n",
      "[[906  23]\n",
      " [ 78  23]]\n"
     ]
    },
    {
     "data": {
      "image/png": "[encoded data removed]",
      "text/plain": [
       "<Figure size 288x288 with 1 Axes>"
      ]
     },
     "metadata": {
      "needs_background": "light"
     },
     "output_type": "display_data"
    }
   ],
   "source": [
    "# buat dan latih model, kemudian evaluasi\n",
    "model = RandomForestClassifier(max_depth=4)\n",
    "model.fit(x_train, y_train)\n",
    "\n",
    "hasil_prediksi = model.predict(x_test)\n",
    "print(classification_report(y_test, hasil_prediksi))\n",
    "print(confusion_matrix(y_test, hasil_prediksi))\n",
    "\n",
    "cm = confusion_matrix(y_test, hasil_prediksi)\n",
    "\n",
    "fig, ax = plt.subplots(figsize=(4, 4)) \n",
    "ax.imshow(cm) \n",
    "ax.grid(False) \n",
    "ax.xaxis.set(ticks=(0, 1), ticklabels=('Predicted 0s', 'Predicted 1s')) \n",
    "ax.yaxis.set(ticks=(0, 1), ticklabels=('Actual 0s', 'Actual 1s')) \n",
    "ax.set_ylim(1.5, -0.5) \n",
    "\n",
    "for i in range(2): \n",
    "    for j in range(2): \n",
    "        ax.text(j, i, cm[i, j], ha='center', va='center', color='black', fontsize=24) \n",
    "\n",
    "plt.title(\"Confusion Matrix\")        \n",
    "plt.show()"
   ]
  },
  {
   "cell_type": "code",
   "execution_count": 118,
   "metadata": {},
   "outputs": [
    {
     "data": {
      "text/plain": [
       "array([0.12150105, 0.02837837, 0.60045351, 0.24966707])"
      ]
     },
     "execution_count": 118,
     "metadata": {},
     "output_type": "execute_result"
    }
   ],
   "source": [
    "model.feature_importances_"
   ]
  },
  {
   "cell_type": "markdown",
   "metadata": {},
   "source": [
    "## Model machine learning menggunakan NAIVE BAYES"
   ]
  },
  {
   "cell_type": "code",
   "execution_count": 119,
   "metadata": {},
   "outputs": [
    {
     "name": "stdout",
     "output_type": "stream",
     "text": [
      "              precision    recall  f1-score   support\n",
      "\n",
      "          no       0.92      0.97      0.94      3668\n",
      "         yes       0.56      0.36      0.44       451\n",
      "\n",
      "    accuracy                           0.90      4119\n",
      "   macro avg       0.74      0.66      0.69      4119\n",
      "weighted avg       0.89      0.90      0.89      4119\n",
      "\n",
      "[[3541  127]\n",
      " [ 288  163]]\n"
     ]
    },
    {
     "data": {
      "image/png": "[encoded data removed]",
      "text/plain": [
       "<Figure size 288x288 with 1 Axes>"
      ]
     },
     "metadata": {
      "needs_background": "light"
     },
     "output_type": "display_data"
    }
   ],
   "source": [
    "\n",
    "feature_cols = ['age', 'campaign', 'duration', 'cons.price.idx']\n",
    "fitur_bys = bank_41190[feature_cols] # Features\n",
    "target_bys = bank_41190.y # Target variable\n",
    "\n",
    "model = GaussianNB()\n",
    "model.fit(fitur_bys, target_bys)\n",
    "\n",
    "# evaluasi\n",
    "hasil_prediksi = model.predict(fitur_bys)\n",
    "print(classification_report(target_bys, hasil_prediksi))\n",
    "print(confusion_matrix(target_bys, hasil_prediksi))\n",
    "\n",
    "\n",
    "cm = confusion_matrix(target_bys, hasil_prediksi)\n",
    "\n",
    "fig, ax = plt.subplots(figsize=(4, 4)) \n",
    "ax.imshow(cm) \n",
    "ax.grid(False) \n",
    "ax.xaxis.set(ticks=(0, 1), ticklabels=('Predicted 0s', 'Predicted 1s')) \n",
    "ax.yaxis.set(ticks=(0, 1), ticklabels=('Actual 0s', 'Actual 1s')) \n",
    "ax.set_ylim(1.5, -0.5) \n",
    "\n",
    "for i in range(2): \n",
    "    for j in range(2): \n",
    "        ax.text(j, i, cm[i, j], ha='center', va='center', color='black', fontsize=24) \n",
    "\n",
    "plt.title(\"Confusion Matrix\")        \n",
    "plt.show()"
   ]
  },
  {
   "cell_type": "markdown",
   "metadata": {},
   "source": [
    "## dari seluruh model machine learning, model yang akurat dengan decision tree"
   ]
  }
 ],
 "metadata": {
  "interpreter": {
   "hash": "82cf50798d82ccd576f68f869cf82e434e86e9596c1ecd247e2359a828c37642"
  },
  "kernelspec": {
   "display_name": "Python 3.10.2 64-bit",
   "language": "python",
   "name": "python3"
  },
  "language_info": {
   "codemirror_mode": {
    "name": "ipython",
    "version": 3
   },
   "file_extension": ".py",
   "mimetype": "text/x-python",
   "name": "python",
   "nbconvert_exporter": "python",
   "pygments_lexer": "ipython3",
   "version": "3.10.2"
  },
  "orig_nbformat": 4
 },
 "nbformat": 4,
 "nbformat_minor": 2
}
