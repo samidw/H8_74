{
 "cells": [
  {
   "cell_type": "code",
   "execution_count": 145,
   "metadata": {},
   "outputs": [],
   "source": [
    "import math \n",
    "import statistics \n",
    "import numpy as np \n",
    "import scipy.stats \n",
    "import pandas as pd\n",
    "\n",
    "import statsmodels.api as sm\n",
    "\n",
    "import matplotlib as mpl\n",
    "import matplotlib.pyplot as plt\n",
    "mpl.style.use(['ggplot'])\n",
    "import seaborn as sns\n",
    "\n",
    "from scipy.stats import uniform\n",
    "from scipy.stats import norm"
   ]
  },
  {
   "cell_type": "markdown",
   "metadata": {},
   "source": [
    "## Explatory data analysis"
   ]
  },
  {
   "cell_type": "code",
   "execution_count": 146,
   "metadata": {},
   "outputs": [
    {
     "data": {
      "text/plain": [
       "BUILDING CLASS CATEGORY\n",
       "01 ONE FAMILY DWELLINGS                        18648\n",
       "02 TWO FAMILY DWELLINGS                        32451\n",
       "03 THREE FAMILY DWELLINGS                      13137\n",
       "04 TAX CLASS 1 CONDOS                           1630\n",
       "05 TAX CLASS 1 VACANT LAND                       245\n",
       "Name: TOTAL UNITS, dtype: int64"
      ]
     },
     "execution_count": 146,
     "metadata": {},
     "output_type": "execute_result"
    }
   ],
   "source": [
    "Prop_sell_in_NYC =  pd.read_csv('nyc-rolling-sales.csv',na_values=[' -  '])\n",
    "\n",
    "Prop_sell_in_NYC.groupby('BUILDING CLASS CATEGORY')['TOTAL UNITS'].agg('sum').head()"
   ]
  },
  {
   "cell_type": "code",
   "execution_count": 147,
   "metadata": {},
   "outputs": [
    {
     "name": "stdout",
     "output_type": "stream",
     "text": [
      "<class 'pandas.core.frame.DataFrame'>\n",
      "RangeIndex: 84548 entries, 0 to 84547\n",
      "Data columns (total 22 columns):\n",
      " #   Column                          Non-Null Count  Dtype  \n",
      "---  ------                          --------------  -----  \n",
      " 0   Unnamed: 0                      84548 non-null  int64  \n",
      " 1   BOROUGH                         84548 non-null  int64  \n",
      " 2   NEIGHBORHOOD                    84548 non-null  object \n",
      " 3   BUILDING CLASS CATEGORY         84548 non-null  object \n",
      " 4   TAX CLASS AT PRESENT            84548 non-null  object \n",
      " 5   BLOCK                           84548 non-null  int64  \n",
      " 6   LOT                             84548 non-null  int64  \n",
      " 7   EASE-MENT                       84548 non-null  object \n",
      " 8   BUILDING CLASS AT PRESENT       84548 non-null  object \n",
      " 9   ADDRESS                         84548 non-null  object \n",
      " 10  APARTMENT NUMBER                84548 non-null  object \n",
      " 11  ZIP CODE                        84548 non-null  int64  \n",
      " 12  RESIDENTIAL UNITS               84548 non-null  int64  \n",
      " 13  COMMERCIAL UNITS                84548 non-null  int64  \n",
      " 14  TOTAL UNITS                     84548 non-null  int64  \n",
      " 15  LAND SQUARE FEET                58296 non-null  float64\n",
      " 16  GROSS SQUARE FEET               56936 non-null  float64\n",
      " 17  YEAR BUILT                      84548 non-null  int64  \n",
      " 18  TAX CLASS AT TIME OF SALE       84548 non-null  int64  \n",
      " 19  BUILDING CLASS AT TIME OF SALE  84548 non-null  object \n",
      " 20  SALE PRICE                      69987 non-null  float64\n",
      " 21  SALE DATE                       84548 non-null  object \n",
      "dtypes: float64(3), int64(10), object(9)\n",
      "memory usage: 14.2+ MB\n",
      "None\n"
     ]
    }
   ],
   "source": [
    "print(Prop_sell_in_NYC.info())"
   ]
  },
  {
   "cell_type": "markdown",
   "metadata": {},
   "source": [
    "## Pengumplan data dan penjelasan terhadap total units yang dibangun pada kelompok\n",
    "buliding category Apartement \n",
    "ELEVATOR APT; FIREPROOF WITHOUT STORES dan ELEVATOR APT; SEMI-FIREPROOF WITH STORES\n",
    "di seluruh borough dalam data nyc-rolling-sales\n",
    "\n",
    "\n",
    "kode borough\n",
    "\n",
    "- Manhattan (1), \n",
    "- Bronx (2), \n",
    "- Brooklyn (3), \n",
    "- Queens (4), and \n",
    "- Staten Island (5).\n"
   ]
  },
  {
   "cell_type": "code",
   "execution_count": 148,
   "metadata": {},
   "outputs": [],
   "source": [
    "df_elev_with_stores = Prop_sell_in_NYC[Prop_sell_in_NYC['BUILDING CLASS AT PRESENT']=='D7']\n",
    "df_elev_without_stores = Prop_sell_in_NYC[Prop_sell_in_NYC['BUILDING CLASS AT PRESENT']=='D3']\n",
    "\n",
    "df_data_apt=pd.concat([df_elev_with_stores,df_elev_without_stores],sort=False)"
   ]
  },
  {
   "cell_type": "code",
   "execution_count": 149,
   "metadata": {},
   "outputs": [
    {
     "name": "stdout",
     "output_type": "stream",
     "text": [
      "<class 'pandas.core.frame.DataFrame'>\n",
      "Int64Index: 123 entries, 10 to 66238\n",
      "Data columns (total 22 columns):\n",
      " #   Column                          Non-Null Count  Dtype  \n",
      "---  ------                          --------------  -----  \n",
      " 0   Unnamed: 0                      123 non-null    int64  \n",
      " 1   BOROUGH                         123 non-null    int64  \n",
      " 2   NEIGHBORHOOD                    123 non-null    object \n",
      " 3   BUILDING CLASS CATEGORY         123 non-null    object \n",
      " 4   TAX CLASS AT PRESENT            123 non-null    object \n",
      " 5   BLOCK                           123 non-null    int64  \n",
      " 6   LOT                             123 non-null    int64  \n",
      " 7   EASE-MENT                       123 non-null    object \n",
      " 8   BUILDING CLASS AT PRESENT       123 non-null    object \n",
      " 9   ADDRESS                         123 non-null    object \n",
      " 10  APARTMENT NUMBER                123 non-null    object \n",
      " 11  ZIP CODE                        123 non-null    int64  \n",
      " 12  RESIDENTIAL UNITS               123 non-null    int64  \n",
      " 13  COMMERCIAL UNITS                123 non-null    int64  \n",
      " 14  TOTAL UNITS                     123 non-null    int64  \n",
      " 15  LAND SQUARE FEET                123 non-null    float64\n",
      " 16  GROSS SQUARE FEET               123 non-null    float64\n",
      " 17  YEAR BUILT                      123 non-null    int64  \n",
      " 18  TAX CLASS AT TIME OF SALE       123 non-null    int64  \n",
      " 19  BUILDING CLASS AT TIME OF SALE  123 non-null    object \n",
      " 20  SALE PRICE                      88 non-null     float64\n",
      " 21  SALE DATE                       123 non-null    object \n",
      "dtypes: float64(3), int64(10), object(9)\n",
      "memory usage: 22.1+ KB\n",
      "None\n"
     ]
    }
   ],
   "source": [
    "print(df_data_apt.info())"
   ]
  },
  {
   "cell_type": "code",
   "execution_count": 150,
   "metadata": {},
   "outputs": [
    {
     "data": {
      "text/plain": [
       "<AxesSubplot:xlabel='BUILDING CLASS AT PRESENT,BOROUGH'>"
      ]
     },
     "execution_count": 150,
     "metadata": {},
     "output_type": "execute_result"
    },
    {
     "data": {
      "image/png": "[encoded data removed]",
      "text/plain": [
       "<Figure size 864x648 with 1 Axes>"
      ]
     },
     "metadata": {},
     "output_type": "display_data"
    }
   ],
   "source": [
    "pd.DataFrame(df_data_apt.groupby(['BUILDING CLASS AT PRESENT','BOROUGH'])['TOTAL UNITS'].sum()).plot(figsize=(12,9),marker='o')"
   ]
  },
  {
   "cell_type": "code",
   "execution_count": 151,
   "metadata": {},
   "outputs": [
    {
     "data": {
      "text/html": [
       "<div>\n",
       "<style scoped>\n",
       "    .dataframe tbody tr th:only-of-type {\n",
       "        vertical-align: middle;\n",
       "    }\n",
       "\n",
       "    .dataframe tbody tr th {\n",
       "        vertical-align: top;\n",
       "    }\n",
       "\n",
       "    .dataframe thead th {\n",
       "        text-align: right;\n",
       "    }\n",
       "</style>\n",
       "<table border=\"1\" class=\"dataframe\">\n",
       "  <thead>\n",
       "    <tr style=\"text-align: right;\">\n",
       "      <th></th>\n",
       "      <th>Unnamed: 0</th>\n",
       "      <th>BOROUGH</th>\n",
       "      <th>NEIGHBORHOOD</th>\n",
       "      <th>BUILDING CLASS CATEGORY</th>\n",
       "      <th>TAX CLASS AT PRESENT</th>\n",
       "      <th>BLOCK</th>\n",
       "      <th>LOT</th>\n",
       "      <th>EASE-MENT</th>\n",
       "      <th>BUILDING CLASS AT PRESENT</th>\n",
       "      <th>ADDRESS</th>\n",
       "      <th>...</th>\n",
       "      <th>RESIDENTIAL UNITS</th>\n",
       "      <th>COMMERCIAL UNITS</th>\n",
       "      <th>TOTAL UNITS</th>\n",
       "      <th>LAND SQUARE FEET</th>\n",
       "      <th>GROSS SQUARE FEET</th>\n",
       "      <th>YEAR BUILT</th>\n",
       "      <th>TAX CLASS AT TIME OF SALE</th>\n",
       "      <th>BUILDING CLASS AT TIME OF SALE</th>\n",
       "      <th>SALE PRICE</th>\n",
       "      <th>SALE DATE</th>\n",
       "    </tr>\n",
       "  </thead>\n",
       "  <tbody>\n",
       "    <tr>\n",
       "      <th>10</th>\n",
       "      <td>14</td>\n",
       "      <td>1</td>\n",
       "      <td>ALPHABET CITY</td>\n",
       "      <td>08 RENTALS - ELEVATOR APARTMENTS</td>\n",
       "      <td>2</td>\n",
       "      <td>394</td>\n",
       "      <td>44</td>\n",
       "      <td></td>\n",
       "      <td>D7</td>\n",
       "      <td>181 AVENUE C</td>\n",
       "      <td>...</td>\n",
       "      <td>30</td>\n",
       "      <td>4</td>\n",
       "      <td>34</td>\n",
       "      <td>4295.0</td>\n",
       "      <td>21328.0</td>\n",
       "      <td>1910</td>\n",
       "      <td>2</td>\n",
       "      <td>D7</td>\n",
       "      <td>NaN</td>\n",
       "      <td>2017-07-20 00:00:00</td>\n",
       "    </tr>\n",
       "    <tr>\n",
       "      <th>239</th>\n",
       "      <td>243</td>\n",
       "      <td>1</td>\n",
       "      <td>CHELSEA</td>\n",
       "      <td>08 RENTALS - ELEVATOR APARTMENTS</td>\n",
       "      <td>2</td>\n",
       "      <td>794</td>\n",
       "      <td>11</td>\n",
       "      <td></td>\n",
       "      <td>D7</td>\n",
       "      <td>155 WEST 18TH</td>\n",
       "      <td>...</td>\n",
       "      <td>30</td>\n",
       "      <td>2</td>\n",
       "      <td>32</td>\n",
       "      <td>10053.0</td>\n",
       "      <td>78882.0</td>\n",
       "      <td>2014</td>\n",
       "      <td>2</td>\n",
       "      <td>D7</td>\n",
       "      <td>2341975.0</td>\n",
       "      <td>2016-10-28 00:00:00</td>\n",
       "    </tr>\n",
       "    <tr>\n",
       "      <th>1123</th>\n",
       "      <td>1127</td>\n",
       "      <td>1</td>\n",
       "      <td>CIVIC CENTER</td>\n",
       "      <td>08 RENTALS - ELEVATOR APARTMENTS</td>\n",
       "      <td>2B</td>\n",
       "      <td>124</td>\n",
       "      <td>10</td>\n",
       "      <td></td>\n",
       "      <td>D7</td>\n",
       "      <td>23 PARK PLACE</td>\n",
       "      <td>...</td>\n",
       "      <td>6</td>\n",
       "      <td>1</td>\n",
       "      <td>7</td>\n",
       "      <td>4400.0</td>\n",
       "      <td>21840.0</td>\n",
       "      <td>1915</td>\n",
       "      <td>2</td>\n",
       "      <td>D7</td>\n",
       "      <td>15000000.0</td>\n",
       "      <td>2017-05-19 00:00:00</td>\n",
       "    </tr>\n",
       "    <tr>\n",
       "      <th>1124</th>\n",
       "      <td>1128</td>\n",
       "      <td>1</td>\n",
       "      <td>CIVIC CENTER</td>\n",
       "      <td>08 RENTALS - ELEVATOR APARTMENTS</td>\n",
       "      <td>2</td>\n",
       "      <td>173</td>\n",
       "      <td>17</td>\n",
       "      <td></td>\n",
       "      <td>D7</td>\n",
       "      <td>74 LEONARD STREET</td>\n",
       "      <td>...</td>\n",
       "      <td>18</td>\n",
       "      <td>1</td>\n",
       "      <td>19</td>\n",
       "      <td>3828.0</td>\n",
       "      <td>24423.0</td>\n",
       "      <td>1920</td>\n",
       "      <td>2</td>\n",
       "      <td>D7</td>\n",
       "      <td>21250000.0</td>\n",
       "      <td>2017-05-25 00:00:00</td>\n",
       "    </tr>\n",
       "    <tr>\n",
       "      <th>1971</th>\n",
       "      <td>1975</td>\n",
       "      <td>1</td>\n",
       "      <td>FASHION</td>\n",
       "      <td>08 RENTALS - ELEVATOR APARTMENTS</td>\n",
       "      <td>2</td>\n",
       "      <td>830</td>\n",
       "      <td>45</td>\n",
       "      <td></td>\n",
       "      <td>D7</td>\n",
       "      <td>264 5 AVENUE</td>\n",
       "      <td>...</td>\n",
       "      <td>14</td>\n",
       "      <td>6</td>\n",
       "      <td>20</td>\n",
       "      <td>2975.0</td>\n",
       "      <td>13875.0</td>\n",
       "      <td>1928</td>\n",
       "      <td>2</td>\n",
       "      <td>D7</td>\n",
       "      <td>NaN</td>\n",
       "      <td>2016-12-19 00:00:00</td>\n",
       "    </tr>\n",
       "  </tbody>\n",
       "</table>\n",
       "<p>5 rows × 22 columns</p>\n",
       "</div>"
      ],
      "text/plain": [
       "      Unnamed: 0  BOROUGH   NEIGHBORHOOD  \\\n",
       "10            14        1  ALPHABET CITY   \n",
       "239          243        1        CHELSEA   \n",
       "1123        1127        1   CIVIC CENTER   \n",
       "1124        1128        1   CIVIC CENTER   \n",
       "1971        1975        1        FASHION   \n",
       "\n",
       "                          BUILDING CLASS CATEGORY TAX CLASS AT PRESENT  BLOCK  \\\n",
       "10    08 RENTALS - ELEVATOR APARTMENTS                               2    394   \n",
       "239   08 RENTALS - ELEVATOR APARTMENTS                               2    794   \n",
       "1123  08 RENTALS - ELEVATOR APARTMENTS                              2B    124   \n",
       "1124  08 RENTALS - ELEVATOR APARTMENTS                               2    173   \n",
       "1971  08 RENTALS - ELEVATOR APARTMENTS                               2    830   \n",
       "\n",
       "      LOT EASE-MENT BUILDING CLASS AT PRESENT            ADDRESS  ...  \\\n",
       "10     44                                  D7       181 AVENUE C  ...   \n",
       "239    11                                  D7      155 WEST 18TH  ...   \n",
       "1123   10                                  D7      23 PARK PLACE  ...   \n",
       "1124   17                                  D7  74 LEONARD STREET  ...   \n",
       "1971   45                                  D7       264 5 AVENUE  ...   \n",
       "\n",
       "     RESIDENTIAL UNITS  COMMERCIAL UNITS  TOTAL UNITS  LAND SQUARE FEET  \\\n",
       "10                  30                 4           34            4295.0   \n",
       "239                 30                 2           32           10053.0   \n",
       "1123                 6                 1            7            4400.0   \n",
       "1124                18                 1           19            3828.0   \n",
       "1971                14                 6           20            2975.0   \n",
       "\n",
       "      GROSS SQUARE FEET  YEAR BUILT  TAX CLASS AT TIME OF SALE  \\\n",
       "10              21328.0        1910                          2   \n",
       "239             78882.0        2014                          2   \n",
       "1123            21840.0        1915                          2   \n",
       "1124            24423.0        1920                          2   \n",
       "1971            13875.0        1928                          2   \n",
       "\n",
       "      BUILDING CLASS AT TIME OF SALE  SALE PRICE            SALE DATE  \n",
       "10                                D7         NaN  2017-07-20 00:00:00  \n",
       "239                               D7   2341975.0  2016-10-28 00:00:00  \n",
       "1123                              D7  15000000.0  2017-05-19 00:00:00  \n",
       "1124                              D7  21250000.0  2017-05-25 00:00:00  \n",
       "1971                              D7         NaN  2016-12-19 00:00:00  \n",
       "\n",
       "[5 rows x 22 columns]"
      ]
     },
     "execution_count": 151,
     "metadata": {},
     "output_type": "execute_result"
    }
   ],
   "source": [
    "df_data_apt[df_data_apt['BOROUGH']==1].head()"
   ]
  },
  {
   "cell_type": "markdown",
   "metadata": {},
   "source": [
    "## Mencari data:\n",
    "    - Mean\n",
    "    - Median\n",
    "    - Modus\n",
    "    - Range\n",
    "    - Standard Deviation\n",
    "    - Variance\n",
    "    "
   ]
  },
  {
   "cell_type": "code",
   "execution_count": 152,
   "metadata": {},
   "outputs": [
    {
     "data": {
      "text/plain": [
       "113.69918699186992"
      ]
     },
     "execution_count": 152,
     "metadata": {},
     "output_type": "execute_result"
    }
   ],
   "source": [
    "df_data_apt['TOTAL UNITS'].mean()\n",
    "\n",
    "#113.70 adalah rata-rata total units dari buliding category Apartement \n",
    "#ELEVATOR APT; FIREPROOF WITHOUT STORES ELEVATOR APT; SEMI-FIREPROOF WITH STORES"
   ]
  },
  {
   "cell_type": "code",
   "execution_count": 153,
   "metadata": {},
   "outputs": [
    {
     "data": {
      "text/plain": [
       "63.0"
      ]
     },
     "execution_count": 153,
     "metadata": {},
     "output_type": "execute_result"
    }
   ],
   "source": [
    "df_data_apt['TOTAL UNITS'].median()\n",
    "\n",
    "# 63.0 adalah nilai tengah dari total units\n",
    "#ELEVATOR APT; FIREPROOF WITHOUT STORES ELEVATOR APT; SEMI-FIREPROOF WITH STORES"
   ]
  },
  {
   "cell_type": "code",
   "execution_count": 154,
   "metadata": {},
   "outputs": [
    {
     "data": {
      "text/plain": [
       "158.77073557410833"
      ]
     },
     "execution_count": 154,
     "metadata": {},
     "output_type": "execute_result"
    }
   ],
   "source": [
    "df_data_apt['TOTAL UNITS'].std()\n",
    "\n",
    "#standard deviasi total units \n",
    "#ELEVATOR APT; FIREPROOF WITHOUT STORES ELEVATOR APT; SEMI-FIREPROOF WITH STORES"
   ]
  },
  {
   "cell_type": "code",
   "execution_count": 155,
   "metadata": {},
   "outputs": [
    {
     "data": {
      "text/plain": [
       "25003.202194460962"
      ]
     },
     "execution_count": 155,
     "metadata": {},
     "output_type": "execute_result"
    }
   ],
   "source": [
    "df_data_apt['TOTAL UNITS'].var(ddof=0)    \n",
    "\n",
    "#variance dari population  \n",
    "#ELEVATOR APT; FIREPROOF WITHOUT STORES ELEVATOR APT; SEMI-FIREPROOF WITH STORES"
   ]
  },
  {
   "cell_type": "code",
   "execution_count": 156,
   "metadata": {},
   "outputs": [
    {
     "data": {
      "text/plain": [
       "64"
      ]
     },
     "execution_count": 156,
     "metadata": {},
     "output_type": "execute_result"
    }
   ],
   "source": [
    "statistics.mode(df_data_apt['TOTAL UNITS'])   \n",
    "\n",
    "# mode total units\n",
    "#ELEVATOR APT; FIREPROOF WITHOUT STORES ELEVATOR APT; SEMI-FIREPROOF WITH STORES"
   ]
  },
  {
   "cell_type": "markdown",
   "metadata": {},
   "source": [
    "## ranges data total units\n",
    "ELEVATOR APT; FIREPROOF WITHOUT STORES ELEVATOR APT; SEMI-FIREPROOF WITH STORES"
   ]
  },
  {
   "cell_type": "code",
   "execution_count": 157,
   "metadata": {},
   "outputs": [
    {
     "data": {
      "text/plain": [
       "949"
      ]
     },
     "execution_count": 157,
     "metadata": {},
     "output_type": "execute_result"
    }
   ],
   "source": [
    "np.ptp(df_data_apt['TOTAL UNITS'])\n"
   ]
  },
  {
   "cell_type": "code",
   "execution_count": 158,
   "metadata": {},
   "outputs": [
    {
     "data": {
      "text/plain": [
       "949"
      ]
     },
     "execution_count": 158,
     "metadata": {},
     "output_type": "execute_result"
    }
   ],
   "source": [
    "max(df_data_apt['TOTAL UNITS']) - min(df_data_apt['TOTAL UNITS'])"
   ]
  },
  {
   "cell_type": "markdown",
   "metadata": {},
   "source": [
    "## Probability Distribution \n",
    "    Total Units dari apartment dengan building category ELEVATOR APT; FIREPROOF WITHOUT STORES dan ELEVATOR APT; SEMI-FIREPROOF WITH STORES di seluruh borough dalam data nyc-rolling-sales\n",
    " - Uniform\n",
    " - Normal\n",
    " "
   ]
  },
  {
   "cell_type": "code",
   "execution_count": 159,
   "metadata": {},
   "outputs": [],
   "source": [
    "n= df_data_apt['TOTAL UNITS'].sum()\n",
    "\n",
    "start = 10\n",
    "width = 20 \n",
    "data_uniform = uniform.rvs(size=n, loc = start, scale=width)\n",
    "data_normal = norm.rvs(size=n, loc = start, scale=width)"
   ]
  },
  {
   "cell_type": "code",
   "execution_count": 160,
   "metadata": {},
   "outputs": [
    {
     "name": "stderr",
     "output_type": "stream",
     "text": [
      "C:\\Users\\Dimas\\AppData\\Local\\Programs\\Python\\Python310\\lib\\site-packages\\seaborn\\distributions.py:2619: FutureWarning: `distplot` is a deprecated function and will be removed in a future version. Please adapt your code to use either `displot` (a figure-level function with similar flexibility) or `histplot` (an axes-level function for histograms).\n",
      "  warnings.warn(msg, FutureWarning)\n"
     ]
    },
    {
     "data": {
      "text/plain": [
       "[Text(0.5, 0, 'Uniform Distribution '), Text(0, 0.5, 'Frequency')]"
      ]
     },
     "execution_count": 160,
     "metadata": {},
     "output_type": "execute_result"
    },
    {
     "data": {
      "image/png": "[encoded data removed]",
      "text/plain": [
       "<Figure size 432x288 with 1 Axes>"
      ]
     },
     "metadata": {},
     "output_type": "display_data"
    }
   ],
   "source": [
    "ax = sns.distplot(\n",
    "        data_uniform, \n",
    "        bins=100, \n",
    "        kde=True, \n",
    "        color='magenta', \n",
    "        hist_kws={\"linewidth\": 15,'alpha':1})\n",
    "\n",
    "ax.set(xlabel='Uniform Distribution ', ylabel='Frequency')\n",
    "\n"
   ]
  },
  {
   "cell_type": "code",
   "execution_count": 161,
   "metadata": {},
   "outputs": [
    {
     "name": "stderr",
     "output_type": "stream",
     "text": [
      "C:\\Users\\Dimas\\AppData\\Local\\Programs\\Python\\Python310\\lib\\site-packages\\seaborn\\distributions.py:2619: FutureWarning: `distplot` is a deprecated function and will be removed in a future version. Please adapt your code to use either `displot` (a figure-level function with similar flexibility) or `histplot` (an axes-level function for histograms).\n",
      "  warnings.warn(msg, FutureWarning)\n"
     ]
    },
    {
     "data": {
      "text/plain": [
       "[Text(0.5, 0, 'Normal Distribution '), Text(0, 0.5, 'Frequency')]"
      ]
     },
     "execution_count": 161,
     "metadata": {},
     "output_type": "execute_result"
    },
    {
     "data": {
      "image/png": "[encoded data removed]",
      "text/plain": [
       "<Figure size 432x288 with 1 Axes>"
      ]
     },
     "metadata": {},
     "output_type": "display_data"
    }
   ],
   "source": [
    "ax = sns.distplot(\n",
    "        data_normal, \n",
    "        bins=100, \n",
    "        kde=True, \n",
    "        color='blue', \n",
    "        hist_kws={\"linewidth\": 15,'alpha':1})\n",
    "\n",
    "ax.set(xlabel='Normal Distribution ', ylabel='Frequency')\n"
   ]
  },
  {
   "cell_type": "markdown",
   "metadata": {},
   "source": [
    "## Confidence Interval"
   ]
  },
  {
   "cell_type": "code",
   "execution_count": 162,
   "metadata": {},
   "outputs": [
    {
     "name": "stderr",
     "output_type": "stream",
     "text": [
      "C:\\Users\\Dimas\\AppData\\Local\\Temp\\ipykernel_10316\\1757340735.py:2: SettingWithCopyWarning: \n",
      "A value is trying to be set on a copy of a slice from a DataFrame.\n",
      "Try using .loc[row_indexer,col_indexer] = value instead\n",
      "\n",
      "See the caveats in the documentation: https://pandas.pydata.org/pandas-docs/stable/user_guide/indexing.html#returning-a-view-versus-a-copy\n",
      "  df_four_borough['TOTALUNITS'] = df_data_apt['TOTAL UNITS']\n",
      "C:\\Users\\Dimas\\AppData\\Local\\Temp\\ipykernel_10316\\1757340735.py:3: SettingWithCopyWarning: \n",
      "A value is trying to be set on a copy of a slice from a DataFrame.\n",
      "Try using .loc[row_indexer,col_indexer] = value instead\n",
      "\n",
      "See the caveats in the documentation: https://pandas.pydata.org/pandas-docs/stable/user_guide/indexing.html#returning-a-view-versus-a-copy\n",
      "  df_four_borough['Build'] = df_data_apt['BUILDING CLASS AT PRESENT']\n"
     ]
    }
   ],
   "source": [
    "df_four_borough = df_data_apt[['BOROUGH','BUILDING CLASS AT PRESENT','TOTAL UNITS']]\n",
    "df_four_borough['TOTALUNITS'] = df_data_apt['TOTAL UNITS']\n",
    "df_four_borough['Build'] = df_data_apt['BUILDING CLASS AT PRESENT']\n",
    "\n"
   ]
  },
  {
   "cell_type": "code",
   "execution_count": 163,
   "metadata": {},
   "outputs": [
    {
     "data": {
      "text/plain": [
       "Build  BOROUGH\n",
       "D3     1          7322\n",
       "       2           642\n",
       "       3           153\n",
       "       4            99\n",
       "D7     1          1582\n",
       "       2          2529\n",
       "       3           880\n",
       "       4           778\n",
       "Name: TOTALUNITS, dtype: int64"
      ]
     },
     "execution_count": 163,
     "metadata": {},
     "output_type": "execute_result"
    }
   ],
   "source": [
    "df_four_borough.groupby(['Build','BOROUGH'])['TOTALUNITS'].sum()"
   ]
  },
  {
   "cell_type": "code",
   "execution_count": 164,
   "metadata": {},
   "outputs": [
    {
     "name": "stdout",
     "output_type": "stream",
     "text": [
      "Confidence Interval\n",
      "0.8143874838211981\n",
      "0.8302666042291164\n"
     ]
    }
   ],
   "source": [
    "n = 7322 + 1582\n",
    "p = 7322 / n\n",
    "z = 1.96\n",
    "se = np.sqrt(p * (1-p) / n)\n",
    "\n",
    "be = p\n",
    "me = z * se\n",
    "\n",
    "print(\"Confidence Interval\")\n",
    "print(be - me)\n",
    "print(be + me)"
   ]
  },
  {
   "cell_type": "markdown",
   "metadata": {},
   "source": [
    "proporsi total units Apartment di manhattan dengan kode D3 (ELEVATOR APT; FIREPROOF WITHOUT STORES) ada diantara 81%-84% dengan tingkat keyakinan 95 %\n",
    " - (sumber data nyc-rolling-sales.csv)"
   ]
  },
  {
   "cell_type": "markdown",
   "metadata": {},
   "source": [
    "HYPOTHESIS TESTING\n",
    " - membandingkan total units apartment dengan kriteria D3 (ELEVATOR APT; FIREPROOF WITHOUT STORES) borough Bronx dan Brooklyn \n",
    " - Total Unit Apartment dengan kriteria D3 lebih banyak di bronx"
   ]
  },
  {
   "cell_type": "code",
   "execution_count": 165,
   "metadata": {},
   "outputs": [],
   "source": [
    "Total_Bronx= df_four_borough[\n",
    "    (df_four_borough['Build'] == 'D3') &\n",
    "    (df_four_borough['BOROUGH'] ==2)]\n",
    "    \n",
    "    \n",
    "Total_Brooklyn= df_four_borough[\n",
    "    (df_four_borough['Build'] == 'D3') &\n",
    "    (df_four_borough['BOROUGH'] ==3)]\n",
    "  \n"
   ]
  },
  {
   "cell_type": "code",
   "execution_count": 166,
   "metadata": {},
   "outputs": [
    {
     "name": "stdout",
     "output_type": "stream",
     "text": [
      "4.506726813010145e-11\n",
      "True\n",
      "REJECT null hypothesis, Total Unit Apartment dengan kriteria D3 lebih banyak di bronx daripada Brooklyn\n"
     ]
    }
   ],
   "source": [
    "zstat, pvalue = sm.stats.ztest(Total_Bronx['TOTALUNITS'], Total_Brooklyn['TOTALUNITS'], alternative='two-sided')\n",
    "print(pvalue)\n",
    "# pilih alpha\n",
    "alpha = 0.05 # level yakin 95%, error rate 5%\n",
    "\n",
    "print(pvalue < alpha)\n",
    "\n",
    "\n",
    "if (pvalue < alpha):\n",
    "    print(\"REJECT null hypothesis, Total Unit Apartment dengan kriteria D3 lebih banyak di bronx daripada Brooklyn\")\n",
    "else:\n",
    "    print(\"FAIL to reject null hypothesis, tidak ada perbedaan signifikan Total Unit Apartment dengan kriteria D3 di bronx daripada Brooklyn \")"
   ]
  }
 ],
 "metadata": {
  "interpreter": {
   "hash": "82cf50798d82ccd576f68f869cf82e434e86e9596c1ecd247e2359a828c37642"
  },
  "kernelspec": {
   "display_name": "Python 3.10.2 64-bit",
   "language": "python",
   "name": "python3"
  },
  "language_info": {
   "codemirror_mode": {
    "name": "ipython",
    "version": 3
   },
   "file_extension": ".py",
   "mimetype": "text/x-python",
   "name": "python",
   "nbconvert_exporter": "python",
   "pygments_lexer": "ipython3",
   "version": "3.10.2"
  },
  "orig_nbformat": 4
 },
 "nbformat": 4,
 "nbformat_minor": 2
}
